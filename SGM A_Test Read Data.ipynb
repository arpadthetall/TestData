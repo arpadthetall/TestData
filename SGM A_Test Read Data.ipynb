{
 "cells": [
  {
   "cell_type": "code",
   "execution_count": 2,
   "metadata": {
    "collapsed": true
   },
   "outputs": [],
   "source": [
    "import re\n",
    "import pandas as pd\n",
    "import numpy as np"
   ]
  },
  {
   "cell_type": "code",
   "execution_count": 2216,
   "metadata": {
    "collapsed": true
   },
   "outputs": [],
   "source": [
    "#Import iPython widget libraries\n",
    "import ipywidgets as wg # import widgets library\n",
    "from IPython.display import display # import display library"
   ]
  },
  {
   "cell_type": "code",
   "execution_count": 3,
   "metadata": {
    "collapsed": true
   },
   "outputs": [],
   "source": [
    "ColNames = ['TestSWVer', 'TestStNum', 'TestMonth', 'TestDate', 'TestTime', 'TestYear',\n",
    "            'BOOTID', 'DSPID', 'OEBBOOTID', 'OEBID', 'TestCat', 'SN',\n",
    "            'CTICAlarm', 'ZeroizeKeys', 'Load1Key', 'Retain1Key',\n",
    "            'Load8Keys', 'Retain8Keys', 'BITOE', 'DcrOrdw',\n",
    "            'PAIST', 'ModSelfT', 'IFLoopback', 'BBLoopback', 'CHAN0', 'CHAN1', 'SIGPRES1',\n",
    "            'PrepFreqCng1', 'STM1', 'CHAN2', 'CHAN3', 'SIGPRES2', 'PrepFreqCng2', 'STM2',\n",
    "            'IP6V3Norm', 'IP5VNorm', 'IP6V3Off', 'IP5VOff', 'MEM5VOff',\n",
    "            'IP6V3NormRes', 'IP5VNormRes', 'IP6V3OffRes', 'IP5VOffRes', 'MEM5VOffRes',\n",
    "            'ND1BER', 'ND2BER', 'ND3BER', 'ND4BER', 'ND5BER', 'ND6BER', 'ND7BER', 'ND8BER',\n",
    "            'ND1Res', 'ND2Res', 'ND3Res', 'ND4Res', 'ND5Res', 'ND6Res', 'ND7Res', 'ND8Res',\n",
    "            'D5K1BER', 'D5K2BER', 'D5K3BER',\n",
    "            'D5K1Res', 'D5K2Res', 'D5K3Res',\n",
    "            'D25K1BER', 'D25K2BER', 'D25K3BER', 'D25K4BER', 'D25K5BER',\n",
    "            'D25K1Res', 'D25K2Res', 'D25K3Res', 'D25K4Res', 'D25K5Res',\n",
    "            'RILS1Val', 'RILS2Val', 'RILS1Res', 'RILS2Res']"
   ]
  },
  {
   "cell_type": "code",
   "execution_count": 4,
   "metadata": {
    "collapsed": true
   },
   "outputs": [],
   "source": [
    "# Initialize dataframe\n",
    "df = pd.DataFrame(np.random.randint(low=0, high=10, size=(1, 80)), columns=ColNames)"
   ]
  },
  {
   "cell_type": "code",
   "execution_count": 2233,
   "metadata": {},
   "outputs": [
    {
     "name": "stdout",
     "output_type": "stream",
     "text": [
      "The default test file directory is A_Level_Code_Test\n",
      "The default directory for test files can be modified here:\n"
     ]
    },
    {
     "data": {
      "application/vnd.jupyter.widget-view+json": {
       "model_id": "9ca0320b63964806aa48446fc17ebdbc",
       "version_major": 2,
       "version_minor": 0
      },
      "text/plain": [
       "A Jupyter Widget"
      ]
     },
     "metadata": {},
     "output_type": "display_data"
    },
    {
     "data": {
      "text/plain": [
       "<function __main__.dirEntry>"
      ]
     },
     "execution_count": 2233,
     "metadata": {},
     "output_type": "execute_result"
    }
   ],
   "source": [
    "source_dir = 'A_Level_Code_Test'\n",
    "def dirEntry(modify_directory_value):\n",
    "    global source_dir\n",
    "    source_dir = modify_directory_value\n",
    "    print('The modified directory is: ', source_dir)\n",
    "    \n",
    "\n",
    "dir_entry = wg.Text(value='A_Level_Code_Test', disabled=False)\n",
    "print('The default test file directory is A_Level_Code_Test')\n",
    "print('The default directory for test files can be modified here:')\n",
    "wg.interact(dirEntry, modify_directory_value=dir_entry)"
   ]
  },
  {
   "cell_type": "code",
   "execution_count": 2234,
   "metadata": {},
   "outputs": [
    {
     "name": "stdout",
     "output_type": "stream",
     "text": [
      "The test file directory is:  A_Level_Code_Test_Changed\n"
     ]
    }
   ],
   "source": [
    "print('The test file directory is: ', source_dir)"
   ]
  },
  {
   "cell_type": "code",
   "execution_count": 2219,
   "metadata": {},
   "outputs": [
    {
     "name": "stdout",
     "output_type": "stream",
     "text": [
      "A_Level_Code_Test\\P15247A.TXT\n",
      "A_Level_Code_Test\\P15248A.TXT\n",
      "A_Level_Code_Test\\P15249A.TXT\n",
      "A_Level_Code_Test\\P15250A.TXT\n",
      "A_Level_Code_Test\\P15256A.TXT\n",
      "A_Level_Code_Test\\P15259A.TXT\n",
      "A_Level_Code_Test\\P15260A.TXT\n",
      "A_Level_Code_Test\\P15265A.TXT\n",
      "A_Level_Code_Test\\P15266A.TXT\n",
      "A_Level_Code_Test\\P15275A.TXT\n",
      "A_Level_Code_Test\\P15276A.TXT\n",
      "A_Level_Code_Test\\P15280A.TXT\n",
      "A_Level_Code_Test\\P15284A.TXT\n",
      "A_Level_Code_Test\\P15285A.TXT\n",
      "A_Level_Code_Test\\P15287A.TXT\n",
      "A_Level_Code_Test\\P15292A.TXT\n",
      "A_Level_Code_Test\\P15294A.TXT\n",
      "A_Level_Code_Test\\P15440A.TXT\n",
      "A_Level_Code_Test\\P15443A.TXT\n",
      "A_Level_Code_Test\\P15446A.TXT\n",
      "A_Level_Code_Test\\P15448A.TXT\n",
      "A_Level_Code_Test\\P15449A.TXT\n",
      "A_Level_Code_Test\\P15451A.TXT\n",
      "A_Level_Code_Test\\P15452A.TXT\n",
      "A_Level_Code_Test\\P15454A.TXT\n",
      "A_Level_Code_Test\\P15457A.TXT\n",
      "A_Level_Code_Test\\P15461A.TXT\n",
      "A_Level_Code_Test\\P15462A.TXT\n",
      "A_Level_Code_Test\\P15463A.TXT\n",
      "A_Level_Code_Test\\P15464A.TXT\n",
      "A_Level_Code_Test\\P15465A.TXT\n",
      "A_Level_Code_Test\\P15468A.TXT\n",
      "A_Level_Code_Test\\P15469A.TXT\n",
      "A_Level_Code_Test\\P15470A.TXT\n",
      "A_Level_Code_Test\\P15471A.TXT\n",
      "A_Level_Code_Test\\P15473A.TXT\n",
      "A_Level_Code_Test\\P15474A.TXT\n",
      "A_Level_Code_Test\\P15475A.TXT\n",
      "A_Level_Code_Test\\P15477A.TXT\n",
      "A_Level_Code_Test\\P15478A.TXT\n",
      "A_Level_Code_Test\\P15481A.TXT\n",
      "A_Level_Code_Test\\P15482A.TXT\n",
      "A_Level_Code_Test\\P15483A.TXT\n",
      "A_Level_Code_Test\\P15484A.TXT\n",
      "A_Level_Code_Test\\P15486A.TXT\n",
      "A_Level_Code_Test\\P15488A.TXT\n",
      "A_Level_Code_Test\\P15489A.TXT\n",
      "A_Level_Code_Test\\P15490A.TXT\n",
      "A_Level_Code_Test\\P15491A.TXT\n",
      "A_Level_Code_Test\\P15492A.TXT\n",
      "A_Level_Code_Test\\P15493A.TXT\n",
      "A_Level_Code_Test\\P15494A.TXT\n",
      "A_Level_Code_Test\\P15495A.TXT\n",
      "A_Level_Code_Test\\P15496A.TXT\n",
      "A_Level_Code_Test\\P15497A.TXT\n",
      "A_Level_Code_Test\\P15498A.TXT\n",
      "A_Level_Code_Test\\P15499A.TXT\n",
      "A_Level_Code_Test\\P15500A.TXT\n",
      "A_Level_Code_Test\\P15501A.TXT\n",
      "A_Level_Code_Test\\P15504A.TXT\n",
      "A_Level_Code_Test\\P15505A.TXT\n",
      "A_Level_Code_Test\\P15506A.TXT\n",
      "A_Level_Code_Test\\P15507A.TXT\n",
      "A_Level_Code_Test\\P15509A.TXT\n",
      "A_Level_Code_Test\\P15511A.TXT\n",
      "A_Level_Code_Test\\P15512A.TXT\n",
      "A_Level_Code_Test\\P15513A.TXT\n",
      "A_Level_Code_Test\\P15515A.TXT\n",
      "A_Level_Code_Test\\P15516A.TXT\n",
      "A_Level_Code_Test\\P15517A.TXT\n",
      "A_Level_Code_Test\\P15518A.TXT\n",
      "A_Level_Code_Test\\P15519A.TXT\n",
      "A_Level_Code_Test\\P15521A.TXT\n",
      "A_Level_Code_Test\\P15522A.TXT\n",
      "A_Level_Code_Test\\P15523A.TXT\n",
      "A_Level_Code_Test\\P15525A.TXT\n",
      "A_Level_Code_Test\\P15526A.TXT\n",
      "A_Level_Code_Test\\P15527A.TXT\n",
      "A_Level_Code_Test\\P15530A.TXT\n",
      "A_Level_Code_Test\\P15531A.TXT\n",
      "A_Level_Code_Test\\P15532A.TXT\n",
      "A_Level_Code_Test\\P15539A.TXT\n",
      "A_Level_Code_Test\\P15540A.TXT\n",
      "A_Level_Code_Test\\P15541A.TXT\n",
      "A_Level_Code_Test\\P15542A.TXT\n",
      "A_Level_Code_Test\\P15543A.TXT\n",
      "A_Level_Code_Test\\P15544A.TXT\n",
      "A_Level_Code_Test\\P15545A.TXT\n",
      "A_Level_Code_Test\\P15546A.TXT\n",
      "A_Level_Code_Test\\P15547A.TXT\n",
      "A_Level_Code_Test\\P15548A.TXT\n",
      "A_Level_Code_Test\\P15552A.TXT\n",
      "A_Level_Code_Test\\P15553A.TXT\n",
      "A_Level_Code_Test\\P15554A.TXT\n",
      "A_Level_Code_Test\\P15555A.TXT\n",
      "A_Level_Code_Test\\P15556A.TXT\n",
      "A_Level_Code_Test\\P15558A.TXT\n",
      "A_Level_Code_Test\\P15559A.TXT\n",
      "A_Level_Code_Test\\P15561A.TXT\n",
      "A_Level_Code_Test\\P15562A.TXT\n",
      "A_Level_Code_Test\\P15563A.TXT\n",
      "A_Level_Code_Test\\P15564A.TXT\n",
      "A_Level_Code_Test\\P15568A.TXT\n",
      "A_Level_Code_Test\\P15569A.TXT\n",
      "A_Level_Code_Test\\P15570A.TXT\n",
      "A_Level_Code_Test\\P15573A.TXT\n",
      "A_Level_Code_Test\\P15574A.TXT\n",
      "A_Level_Code_Test\\P15575A.TXT\n",
      "A_Level_Code_Test\\P15576A.TXT\n",
      "A_Level_Code_Test\\P15577A.TXT\n",
      "A_Level_Code_Test\\P15578A.TXT\n",
      "A_Level_Code_Test\\P15579A.TXT\n",
      "A_Level_Code_Test\\P15580A.TXT\n",
      "A_Level_Code_Test\\P15581A.TXT\n",
      "A_Level_Code_Test\\P15582A.TXT\n",
      "A_Level_Code_Test\\P15583A.TXT\n",
      "A_Level_Code_Test\\P15584A.TXT\n",
      "A_Level_Code_Test\\P15586A.TXT\n",
      "A_Level_Code_Test\\P15587A.TXT\n",
      "A_Level_Code_Test\\P15588A.TXT\n",
      "A_Level_Code_Test\\P15589A.TXT\n",
      "A_Level_Code_Test\\P15590A.TXT\n",
      "A_Level_Code_Test\\P15591A.TXT\n",
      "A_Level_Code_Test\\P15592A.TXT\n",
      "A_Level_Code_Test\\P15593A.TXT\n",
      "A_Level_Code_Test\\P15594A.TXT\n",
      "A_Level_Code_Test\\P15595A.TXT\n",
      "A_Level_Code_Test\\P15596A.TXT\n",
      "A_Level_Code_Test\\P15597A.TXT\n",
      "A_Level_Code_Test\\P15598A.TXT\n",
      "A_Level_Code_Test\\P15659A.TXT\n",
      "A_Level_Code_Test\\P15660A.TXT\n",
      "A_Level_Code_Test\\P15661A.TXT\n",
      "A_Level_Code_Test\\P15662A.TXT\n",
      "A_Level_Code_Test\\P15663A.TXT\n",
      "A_Level_Code_Test\\P15664A.TXT\n",
      "A_Level_Code_Test\\P15665A.TXT\n",
      "A_Level_Code_Test\\P15667A.TXT\n",
      "A_Level_Code_Test\\P15668A.TXT\n",
      "A_Level_Code_Test\\P15669A.TXT\n",
      "A_Level_Code_Test\\P15670A.TXT\n",
      "A_Level_Code_Test\\P15671A.TXT\n",
      "A_Level_Code_Test\\P15672A.TXT\n",
      "A_Level_Code_Test\\P15673A.TXT\n",
      "A_Level_Code_Test\\P15674A.TXT\n",
      "A_Level_Code_Test\\P15675A.TXT\n",
      "A_Level_Code_Test\\P15676A.TXT\n",
      "A_Level_Code_Test\\P15677A.TXT\n",
      "A_Level_Code_Test\\P15680A.TXT\n",
      "A_Level_Code_Test\\P15681A.TXT\n",
      "A_Level_Code_Test\\P15684A.TXT\n"
     ]
    }
   ],
   "source": [
    "source_dir = 'A_Level_Code_Test'\n",
    "\n",
    "wg.Text(value='A_Level_Code_Test', disabled=False)\n",
    "\n",
    "file_list = []\n",
    "import os\n",
    "for file in os.listdir(source_dir):\n",
    "    if (file.endswith(\".txt\")) | (file.endswith(\".TXT\")):\n",
    "        print(os.path.join(source_dir, file))\n",
    "        file_list.append(file)\n",
    "#print(file_list)"
   ]
  },
  {
   "cell_type": "code",
   "execution_count": 2199,
   "metadata": {},
   "outputs": [
    {
     "name": "stdout",
     "output_type": "stream",
     "text": [
      "A_Level_Code_Test_Extracted/P15684A.TXT\n"
     ]
    }
   ],
   "source": [
    "#Read in A-level test file\n",
    "i = 150\n",
    "source_file = source_dir + '/' + file_list[i]\n",
    "ATest = open(source_file, \"r\").read()\n",
    "ResultFile = 'A_Level_Code_Test_Extracted/'+file_list[i]\n",
    "print(ResultFile)"
   ]
  },
  {
   "cell_type": "code",
   "execution_count": 2200,
   "metadata": {},
   "outputs": [
    {
     "name": "stdout",
     "output_type": "stream",
     "text": [
      "10.04\n"
     ]
    }
   ],
   "source": [
    "#Read Test SW Version, SWV\n",
    "TestSWVer_find = re.search(\"ViaSat SGM ATP Version \\d\\d\\.\\d\\d\", ATest)\n",
    "TestSWVer = ATest[TestSWVer_find.span()[1]-5:TestSWVer_find.span()[1]]\n",
    "print(TestSWVer)\n",
    "df[['TestSWVer']] = TestSWVer"
   ]
  },
  {
   "cell_type": "code",
   "execution_count": 2201,
   "metadata": {},
   "outputs": [
    {
     "name": "stdout",
     "output_type": "stream",
     "text": [
      "2\n"
     ]
    }
   ],
   "source": [
    "#Read ATP Station Number, STN\n",
    "TestStNum_find = re.search(\"ATP Station: \\d\", ATest)\n",
    "TestStNum = ATest[TestStNum_find.span()[1]-1]\n",
    "print(TestStNum)\n",
    "df[['TestStNum']] = TestStNum"
   ]
  },
  {
   "cell_type": "code",
   "execution_count": 2202,
   "metadata": {},
   "outputs": [
    {
     "name": "stdout",
     "output_type": "stream",
     "text": [
      "Oct\n",
      "14\n",
      "06:50:58\n",
      "2017\n"
     ]
    }
   ],
   "source": [
    "#Read Test Year, Test Month, Test Date, Test Time, \n",
    "TTimes_find = re.search(\"Current Time: [A-Za-z]{3} [A-Za-z]{3} \\d{1,2} \\d\\d:\\d\\d:\\d\\d \\d\\d\\d\\d\", ATest)\n",
    "TMonth = ATest[TTimes_find.span()[0]+18:TTimes_find.span()[0]+21]\n",
    "print(TMonth)\n",
    "df[['TestMonth']] = TMonth\n",
    "TDay = ATest[TTimes_find.span()[0]+22:TTimes_find.span()[0]+24]\n",
    "print(TDay)\n",
    "df[['TestDate']] = TDay\n",
    "TTime = ATest[TTimes_find.span()[1]-13:TTimes_find.span()[1]-5]\n",
    "print(TTime)\n",
    "df[['TestTime']] = TTime\n",
    "TYear = ATest[TTimes_find.span()[1]-4:TTimes_find.span()[1]]\n",
    "print(TYear)\n",
    "df[['TestYear']] = TYear\n"
   ]
  },
  {
   "cell_type": "code",
   "execution_count": 2203,
   "metadata": {},
   "outputs": [
    {
     "name": "stdout",
     "output_type": "stream",
     "text": [
      "VSW-BOOT-DSP-09.01\n",
      "VSW-SGM-DSP-09.36\n",
      "VSW-BOOT-OEB-01.30\n",
      "VSW-SGM-OEB-06.14\n"
     ]
    }
   ],
   "source": [
    "#Read Modem FW Version, MFWV\n",
    "MFWV1_find = re.search(\"UUT DSP BOOT ID: VSW-BOOT-DSP-\\d\\d\\.\\d\\d   [|] UUT DSP ID: VSW-SGM-DSP-\\d\\d\\.\\d\\d\", ATest)\n",
    "MFWVDB = ATest[MFWV1_find.span()[0]+17:MFWV1_find.span()[0]+35]\n",
    "print(MFWVDB)\n",
    "df[['BOOTID']] = MFWVDB\n",
    "MFWVDI = ATest[MFWV1_find.span()[1]-17:MFWV1_find.span()[1]]\n",
    "print(MFWVDI)\n",
    "df[['DSPID']] = MFWVDI\n",
    "MFWV2_find = re.search(\"UUT OEB BOOT ID: VSW-BOOT-OEB-\\d\\d\\.\\d\\d   [|] UUT OEB ID: VSW-SGM-OEB-\\d\\d\\.\\d\\d\", ATest)\n",
    "MFWVOB = ATest[MFWV2_find.span()[0]+17:MFWV2_find.span()[0]+35]\n",
    "print(MFWVOB)\n",
    "df[['OEBBOOTID']] = MFWVOB\n",
    "MFWVOI = ATest[MFWV2_find.span()[1]-17:MFWV2_find.span()[1]]\n",
    "print(MFWVOI)\n",
    "df[['OEBID']] = MFWVOI"
   ]
  },
  {
   "cell_type": "code",
   "execution_count": 2204,
   "metadata": {},
   "outputs": [
    {
     "name": "stdout",
     "output_type": "stream",
     "text": [
      "A\n"
     ]
    }
   ],
   "source": [
    "#Read Test Category, TC\n",
    "TC_find = re.search(\"[AB]-Level Start Time:\", ATest)\n",
    "TC = ATest[TC_find.span()[0]]\n",
    "print(TC)\n",
    "df[['TestCat']] = TC\n",
    "if TC != \"A\":\n",
    "    print(\"This is not an A-Level test record\")"
   ]
  },
  {
   "cell_type": "code",
   "execution_count": 2205,
   "metadata": {},
   "outputs": [
    {
     "name": "stdout",
     "output_type": "stream",
     "text": [
      "15684\n"
     ]
    }
   ],
   "source": [
    "#Read DUT Serial Number, SN\n",
    "SN_find = re.search(\"UUT S/N: \\d{5}\", ATest)\n",
    "SN = ATest[SN_find.span()[1]-5:SN_find.span()[1]]\n",
    "print(SN)\n",
    "df[['SN']] = SN"
   ]
  },
  {
   "cell_type": "code",
   "execution_count": 2206,
   "metadata": {},
   "outputs": [
    {
     "name": "stdout",
     "output_type": "stream",
     "text": [
      "ATP Paragraph 3.24 Found\n",
      "  CTICAlarm\n",
      "0      pass\n",
      "  ZeroizeKeys\n",
      "0        pass\n",
      "  Load1Key\n",
      "0     pass\n",
      "  Retain1Key\n",
      "0       pass\n",
      "  Load8Keys\n",
      "0      pass\n",
      "  Retain8Keys\n",
      "0        pass\n",
      "  BITOE\n",
      "0  pass\n",
      "  DcrOrdw\n",
      "0    pass\n"
     ]
    }
   ],
   "source": [
    "#CONTROL OF ORDERWIRE ENCRYPTION FUNCTIONS\n",
    "#Check if ATP Paragraph Number 3.24 is present\n",
    "ATP324 = re.search(\"ATP Paragraph:      3.24\", ATest)\n",
    "if ATP324 != None:\n",
    "    print(\"ATP Paragraph 3.24 Found\")\n",
    "COEF_find = re.search(\"Ordrwre\\n_+\\n.+\\n\", ATest)\n",
    "COEF1 = ATest[COEF_find.span()[0]:COEF_find.span()[1]]\n",
    "COEF2 = re.split(' ', COEF1, flags=0)\n",
    "df[['CTICAlarm']] = COEF2[1]\n",
    "print(df[['CTICAlarm']])\n",
    "df[['ZeroizeKeys']] = COEF2[4]\n",
    "print(df[['ZeroizeKeys']])\n",
    "df[['Load1Key']] = COEF2[9]\n",
    "print(df[['Load1Key']])\n",
    "df[['Retain1Key']] = COEF2[16]\n",
    "print(df[['Retain1Key']])\n",
    "df[['Load8Keys']] = COEF2[23]\n",
    "print(df[['Load8Keys']])\n",
    "df[['Retain8Keys']] = COEF2[30]\n",
    "print(df[['Retain8Keys']])\n",
    "df[['BITOE']] = COEF2[37]\n",
    "print(df[['BITOE']])\n",
    "df[['DcrOrdw']] = COEF2[-1][:-1]\n",
    "print(df[['DcrOrdw']])"
   ]
  },
  {
   "cell_type": "code",
   "execution_count": 2207,
   "metadata": {},
   "outputs": [
    {
     "name": "stdout",
     "output_type": "stream",
     "text": [
      "ATP Paragraph 3.12, 3.13 Found\n",
      "PAIST:  pass\n",
      "Modem Self Test:  pass\n",
      "IF Loopback:  pass\n",
      "Baseband Loopback:  pass\n",
      "CHAN0 Toggle:  pass\n",
      "CHAN1 Toggle:  pass\n",
      "SIGPRESENT1\\ Toggle:  pass\n",
      "PREP_FREQ_CNG1\\ Toggle:  pass\n",
      "STM1\\ Toggle:  pass\n",
      "CHAN2 Toggle:  pass\n",
      "CHAN3 Toggle:  pass\n",
      "SIGPRESENT2\\ Toggle:  pass\n",
      "PREP_FREQ_CNG2\\ Toggle:  pass\n",
      "STM2\\ Toggle:  pass\n"
     ]
    }
   ],
   "source": [
    "#PAIST and BIT MODE\n",
    "#Check if ATP Paragraph Number 3.24 is present\n",
    "ATP31213 = re.search(\"ATP Paragraphs:     3.12, 3.13\", ATest)\n",
    "if ATP31213 != None:\n",
    "    print(\"ATP Paragraph 3.12, 3.13 Found\")\n",
    "\n",
    "#PAIST\n",
    "PAIST = re.findall(\"PAIST\\s+[pasFAILED]{4,6}\", ATest)\n",
    "PAIST = re.findall(\"[pasFAILED]{4,6}\", PAIST[0])\n",
    "print('PAIST: ', PAIST[0])\n",
    "df[['PAIST']] = PAIST[0]\n",
    "\n",
    "#Modem Self Test\n",
    "MST = re.findall(\"Modem Self Test\\s+[pasFAILED]{4,6}\", ATest)\n",
    "MST = re.findall(\"[pasFAILED]{4,6}\", MST[0])\n",
    "print('Modem Self Test: ', MST[0])\n",
    "df[['ModSelfT']] = MST[0]\n",
    "\n",
    "#IF Loopback\n",
    "IFLB = re.findall(\"IF Loopback\\s+[pasFAILED]{4,6}\", ATest)\n",
    "IFLB = re.findall(\"[pasFAILED]{4,6}\", IFLB[0])\n",
    "print('IF Loopback: ', IFLB[0])\n",
    "df[['IFLoopback']] = IFLB[0]\n",
    "\n",
    "#Baseband Loopback\n",
    "BBLB = re.findall(\"Baseband Loopback\\s+[pasFAILED]{4,6}\", ATest)\n",
    "BBLB = re.findall(\"[pasFAILED]{4,6}\", BBLB[0])\n",
    "print('Baseband Loopback: ', BBLB[0])\n",
    "df[['BBLoopback']] = BBLB[0]\n",
    "\n",
    "#Chan0 Toggle\n",
    "Ch0 = re.findall(\"CHAN0 Toggle\\s+[pasFAILED]{4,6}\", ATest)\n",
    "Ch0 = re.findall(\"[pasFAILED]{4,6}\", Ch0[0])\n",
    "print('CHAN0 Toggle: ', Ch0[0])\n",
    "df[['CHAN0']] = Ch0[0]\n",
    "\n",
    "#Chan1 Toggle\n",
    "Ch1 = re.findall(\"CHAN1 Toggle\\s+[pasFAILED]{4,6}\", ATest)\n",
    "Ch1 = re.findall(\"[pasFAILED]{4,6}\", Ch1[0])\n",
    "print('CHAN1 Toggle: ', Ch1[0])\n",
    "df[['CHAN1']] = Ch1[0]\n",
    "\n",
    "#SigPres1 Toggle\n",
    "SigPres1 = re.findall(\"SIGPRESENT1\\\\\\ Toggle\\s+[pasFAILED]{4,6}\", ATest)\n",
    "SigPres1 = re.findall(\"[pasFAILED]{4,6}\", SigPres1[0])\n",
    "print('SIGPRESENT1\\ Toggle: ', SigPres1[0])\n",
    "df[['SIGPRES1']] = SigPres1[0]\n",
    "\n",
    "#PrepFreqCh1 Toggle\n",
    "PrFr1 = re.findall(\"PREP_FREQ_CNG1\\\\\\ Toggle\\s+[pasFAILED]{4,6}\", ATest)\n",
    "PrFr1 = re.findall(\"[pasFAILED]{4,6}\", PrFr1[0])\n",
    "print('PREP_FREQ_CNG1\\ Toggle: ', PrFr1[0])\n",
    "df[['PrepFreqCng1']] = PrFr1[0]\n",
    "\n",
    "#STM1 Toggle\n",
    "STM1 = re.findall(\"STM1\\\\\\ Toggle\\s+[pasFAILED]{4,6}\", ATest)\n",
    "STM1 = re.findall(\"[pasFAILED]{4,6}\", STM1[0])\n",
    "print('STM1\\ Toggle: ', STM1[0])\n",
    "df[['STM1']] = STM1[0]\n",
    "\n",
    "#Chan2 Toggle\n",
    "Ch2 = re.findall(\"CHAN2 Toggle\\s+[pasFAILED]{4,6}\", ATest)\n",
    "Ch2 = re.findall(\"[pasFAILED]{4,6}\", Ch2[0])\n",
    "print('CHAN2 Toggle: ', Ch2[0])\n",
    "df[['CHAN2']] = Ch2[0]\n",
    "\n",
    "#Chan3 Toggle\n",
    "Ch3 = re.findall(\"SIGPRESENT1\\\\\\ Toggle\\s+[pasFAILED]{4,6}\", ATest)\n",
    "Ch3 = re.findall(\"[pasFAILED]{4,6}\", Ch3[0])\n",
    "print('CHAN3 Toggle: ', Ch3[0])\n",
    "df[['CHAN3']] = Ch3[0]\n",
    "\n",
    "#SIGPRESENT2\\ Toggle\n",
    "SigPres2 = re.findall(\"SIGPRESENT2\\\\\\ Toggle\\s+[pasFAILED]{4,6}\", ATest)\n",
    "SigPres2 = re.findall(\"[pasFAILED]{4,6}\", SigPres2[0])\n",
    "print('SIGPRESENT2\\ Toggle: ', SigPres2[0])\n",
    "df[['SIGPRES2']] = SigPres2[0]\n",
    "\n",
    "#PREP_FREQ_CNG2\\ Toggle\n",
    "PrFr2 = re.findall(\"PREP_FREQ_CNG2\\\\\\ Toggle\\s+[pasFAILED]{4,6}\", ATest)\n",
    "PrFr2 = re.findall(\"[pasFAILED]{4,6}\", PrFr2[0])\n",
    "print('PREP_FREQ_CNG2\\ Toggle: ', PrFr2[0])\n",
    "df[['PrepFreqCng2']] = PrFr2[0]\n",
    "\n",
    "#STM2\\ Toggle\n",
    "STM2 = re.findall(\"STM2\\\\\\ Toggle\\s+[pasFAILED]{4,6}\", ATest)\n",
    "STM2 = re.findall(\"[pasFAILED]{4,6}\", STM2[0])\n",
    "print('STM2\\ Toggle: ', STM2[0])\n",
    "df[['STM2']] = STM2[0]"
   ]
  },
  {
   "cell_type": "code",
   "execution_count": 2208,
   "metadata": {},
   "outputs": [
    {
     "name": "stdout",
     "output_type": "stream",
     "text": [
      "ATP Paragraph: 3.1 Found\n",
      "6.3V Normal Current Draw:  251.7\n",
      "6.3V Normal Result:  pass\n",
      "5V Normal Current Draw:  470.1\n",
      "5V Normal Result:  pass\n",
      "6.3V Off Current Draw:  0.2\n",
      "6.3V Off Result:  pass\n",
      "5V Off Current Draw:  0.2\n",
      "5V Off Result:  pass\n",
      "MEM5V Off Current Draw:  0.9\n",
      "MEM5V Off Result:  pass\n"
     ]
    }
   ],
   "source": [
    "#INPUT POWER\n",
    "#Check if ATP Paragraph Number 3.1 is present\n",
    "ATP31 = re.search(\"ATP Paragraph:      3.1\", ATest)\n",
    "if ATP31 != None:\n",
    "    print(\"ATP Paragraph: 3.1 Found\")\n",
    "    \n",
    "#6.3V Normal\n",
    "IP6V3N = re.findall(\"6.3\\s+normal\\s+\\d{1,4}\\.\\d+\\s+\\<\\= 600\\s+[pasFAILED]{4,6}\", ATest)\n",
    "IP6V3N_CD = re.findall(\"\\s{2,}\\d{1,4}\\.\\d\", IP6V3N[0])\n",
    "IP6V3N_CD = re.findall(\"\\d{1,4}\\.\\d\", IP6V3N_CD[0])\n",
    "print('6.3V Normal Current Draw: ', IP6V3N_CD[0])\n",
    "IP6V3N_R = re.findall(\"[pasFAILED]{4,6}\", IP6V3N[0])\n",
    "print('6.3V Normal Result: ', IP6V3N_R[0])\n",
    "df[['IP6V3Norm']] = IP6V3N_CD[0]\n",
    "df[['IP6V3NormRes']] = IP6V3N_R[0]\n",
    "\n",
    "#5V Normal\n",
    "IP5VN = re.findall(\"5\\s+normal\\s+\\d{1,4}\\.\\d+\\s+\\<\\= 1000\\s+[pasFAILED]{4,6}\", ATest)\n",
    "IP5VN_CD = re.findall(\"\\s{2,}\\d{1,4}\\.\\d\", IP5VN[0])\n",
    "IP5VN_CD = re.findall(\"\\d{1,4}\\.\\d\", IP5VN_CD[0])\n",
    "print('5V Normal Current Draw: ', IP5VN_CD[0])\n",
    "IP5VN_R = re.findall(\"[pasFAILED]{4,6}\", IP5VN[0])\n",
    "print('5V Normal Result: ', IP5VN_R[0])\n",
    "df[['IP5VNorm']] = IP5VN_CD[0]\n",
    "df[['IP5VNormRes']] = IP5VN_R[0]\n",
    "\n",
    "#6.3V Off\n",
    "IP6V3Off = re.findall(\"6.3\\s+off\\s+\\d{1,4}\\.\\d+\\s+\\<\\= 1.0\\s+[pasFAILED]{4,6}\", ATest)\n",
    "IP6V3Off_CD = re.findall(\"\\s{2,}\\d{1,4}\\.\\d\", IP6V3Off[0])\n",
    "IP6V3Off_CD = re.findall(\"\\d{1,4}\\.\\d\", IP6V3Off_CD[0])\n",
    "print('6.3V Off Current Draw: ', IP6V3Off_CD[0])\n",
    "IP6V3Off_R = re.findall(\"[pasFAILED]{4,6}\", IP6V3Off[0])\n",
    "print('6.3V Off Result: ', IP6V3Off_R[0])\n",
    "df[['IP6V3Off']] = IP6V3Off_CD[0]\n",
    "df[['IP6V3OffRes']] = IP6V3Off_R[0]\n",
    "\n",
    "#5V Off\n",
    "IP5VOff = re.findall(\"5\\s+off\\s+\\d{1,4}\\.\\d+\\s+\\<\\= 1.0\\s+[pasFAILED]{4,6}\", ATest)\n",
    "IP5VOff_CD = re.findall(\"\\s{2,}\\d{1,4}\\.\\d\", IP5VOff[0])\n",
    "IP5VOff_CD = re.findall(\"\\d{1,4}\\.\\d\", IP5VOff_CD[0])\n",
    "print('5V Off Current Draw: ', IP5VOff_CD[0])\n",
    "IP5VOff_R = re.findall(\"[pasFAILED]{4,6}\", IP5VOff[0])\n",
    "print('5V Off Result: ', IP5VN_R[0])\n",
    "df[['IP5VOff']] = IP5VOff_CD[0]\n",
    "df[['IP5VOffRes']] = IP5VOff_R[0]\n",
    "\n",
    "#MEM5V\n",
    "IPMEM5V = re.findall(\"MEM5V\\s+off\\s+\\d{1,4}\\.\\d+\\s+\\<\\= 6.3\\s+[pasFAILED]{4,6}\", ATest)\n",
    "IPMEM5V_CD = re.findall(\"\\s{2,}\\d{1,4}\\.\\d\", IPMEM5V[0])\n",
    "IPMEM5V_CD = re.findall(\"\\d{1,4}\\.\\d\", IPMEM5V_CD[0])\n",
    "print('MEM5V Off Current Draw: ', IPMEM5V_CD[0])\n",
    "IPMEM5V_R = re.findall(\"[pasFAILED]{4,6}\", IPMEM5V[0])\n",
    "print('MEM5V Off Result: ', IPMEM5V_R[0])\n",
    "df[['MEM5VOff']] = IPMEM5V_CD[0]\n",
    "df[['MEM5VOffRes']] = IPMEM5V_R[0]"
   ]
  },
  {
   "cell_type": "code",
   "execution_count": 2209,
   "metadata": {},
   "outputs": [
    {
     "name": "stdout",
     "output_type": "stream",
     "text": [
      "ATP Paragraph: 3.5 Found\n",
      "     ND1BER    ND2BER    ND3BER    ND4BER    ND5BER    ND6BER    ND7BER  \\\n",
      "0  0.00E+00  0.00E+00  0.00E+00  2.32E-06  0.00E+00  0.00E+00  0.00E+00   \n",
      "\n",
      "     ND8BER ND1Res ND2Res ND3Res ND4Res ND5Res ND6Res ND7Res ND8Res  \n",
      "0  0.00E+00   Pass   Pass   Pass   Pass   Pass   Pass   Pass   Pass  \n"
     ]
    }
   ],
   "source": [
    "#NON-DAMA BER PERFORMANCE\n",
    "#Check if ATP Paragraph Number 3.5 is present\n",
    "ATP35 = re.search(\"ATP Paragraph:      3.5\", ATest)\n",
    "if ATP35 != None:\n",
    "    print(\"ATP Paragraph: 3.5 Found\")\n",
    "\n",
    "#Define list matrix to store strings\n",
    "NDTemp = ['a','a','a','a','a','a','a','a']\n",
    "\n",
    "#Select column names as a list of strings for BER values and Results\n",
    "NDBERValues = df.loc[:,'ND1BER':'ND8BER']\n",
    "NDBERValues = list(NDBERValues.columns)\n",
    "\n",
    "NDBERResults = df.loc[:,'ND1Res':'ND8Res']\n",
    "NDBERResults = list(NDBERResults.columns)\n",
    "\n",
    "#Define regex template for each non-DAMA test\n",
    "NDTemp[0] = '9600\\s+Tx\\s+PSK\\s+52.0\\s+12.2\\s+\\d{1,10}\\s+\\d+\\s+\\d\\sE\\D\\d\\s+\\d.\\d\\dE\\D\\d\\d\\s+[PaspFAILEDiled]{3,7}'\n",
    "NDTemp[1] = '9600\\s+Rx\\s+PSK\\s+52.0\\s+12.2\\s+\\d{1,10}\\s+\\d+\\s+\\d\\s+E\\D\\d\\s+\\d.\\d\\dE\\D\\d\\d\\s+[PaspFAILEDiled]{3,7}'\n",
    "NDTemp[2] = '8000\\s+Rx\\s+CPM\\s+47.7\\s+8.7\\s+\\d{1,10}\\s+\\d+\\s+\\d\\s+E\\D\\d\\s+\\d.\\d\\dE\\D\\d\\d\\s+[PaspFAILEDiled]{3,7}'\n",
    "NDTemp[3] = '56000\\s+Rx\\s+CPM\\s+57.3\\s+9.8\\s+\\d{1,10}\\s+\\d+\\s+\\d\\s+E\\D\\d\\s+\\d.\\d\\dE\\D\\d\\d\\s+[PaspFAILEDiled]{3,7}'\n",
    "NDTemp[4] = '64000\\s+Tx\\s+ID1\\s+58.6\\s+10.5\\s+\\d{1,10}\\s+\\d+\\s+\\d\\s+E\\D\\d\\s+\\d.\\d\\dE\\D\\d\\d\\s+[PaspFAILEDiled]{3,7}'\n",
    "NDTemp[5] = '64000\\s+Rx\\s+ID1\\s+58.6\\s+10.5\\s+\\d{1,10}\\s+\\d+\\s+\\d\\s+E\\D\\d\\s+\\d.\\d\\dE\\D\\d\\d\\s+[PaspFAILEDiled]{3,7}'\n",
    "NDTemp[6] = '56000@\\s+Tx\\s+CPM\\s+57.3\\s+9.8\\s+\\d{1,10}\\s+\\d+\\s+\\d\\s+E\\D\\d\\s+\\d.\\d\\dE\\D\\d\\d\\s+[PaspFAILEDiled]{3,7}'\n",
    "NDTemp[7] = '56000@\\s+Rx\\s+CPM\\s+57.3\\s+9.8\\s+\\d{1,10}\\s+\\d+\\s+\\d\\s+E\\D\\d\\s+\\d.\\d\\dE\\D\\d\\d\\s+[PaspFAILEDiled]{3,7}'\n",
    "\n",
    "#Extract BER value and and test result for each non-DAMA test\n",
    "for i in range(8):\n",
    "    ND = re.findall(NDTemp[i], ATest)\n",
    "    df[[NDBERValues[i]]] = re.findall('\\d.\\d\\dE\\D\\d\\d', ND[0])[0]\n",
    "    df[[NDBERResults[i]]] = re.findall('[pPasFAILEDfiled]{3,7}', ND[0])[0]\n",
    "    \n",
    "print(df.loc[:,'ND1BER':'ND8Res'])"
   ]
  },
  {
   "cell_type": "code",
   "execution_count": 2210,
   "metadata": {},
   "outputs": [
    {
     "name": "stdout",
     "output_type": "stream",
     "text": [
      "ATP Paragraph: 3.6 Found\n",
      "    D5K1BER   D5K2BER   D5K3BER D5K1Res D5K2Res D5K3Res\n",
      "0  4.29E-04  0.00E+00  0.00E+00    Pass    Pass    Pass\n"
     ]
    }
   ],
   "source": [
    "#5KHz DAMA BER PERFORMANCE\n",
    "#Check if ATP Paragraph Number 3.6 is present\n",
    "ATP36 = re.search(\"ATP Paragraph:      3.6\", ATest)\n",
    "if ATP36 != None:\n",
    "    print(\"ATP Paragraph: 3.6 Found\")\n",
    "\n",
    "#Define list matrix to store strings\n",
    "D5KTemp = ['a','a','a']\n",
    "\n",
    "#Select column names as a list of strings for BER values and Results\n",
    "D5KBERValues = df.loc[:,'D5K1BER':'D5K3BER']\n",
    "D5KBERValues = list(D5KBERValues.columns)\n",
    "\n",
    "D5KBERResults = df.loc[:,'D5K1Res':'D5K3Res']\n",
    "D5KBERResults = list(D5KBERResults.columns)\n",
    "\n",
    "#Define regex template for each 25 KHz DAMA test\n",
    "D5KTemp[0] = '6000\\s+Tx\\s+1/1\\s+2400\\s+9.3\\s+\\d+\\s+\\d+\\s+1E\\D\\d\\d\\s+\\d.\\d\\dE\\D\\d\\d\\s+[PaspFAILEDiled]{3,7}'\n",
    "D5KTemp[1] = '6000\\s+Rx\\s+1/1\\s+2400\\s+9.3\\s+\\d+\\s+\\d+\\s+1E\\D\\d\\d\\s+\\d.\\d\\dE\\D\\d\\d\\s+[PaspFAILEDiled]{3,7}'\n",
    "D5KTemp[2] = '4800\\s+Rx\\s+1/2\\s+1200\\s+6.0\\s+\\d+\\s+\\d+\\s+1E\\D\\d\\d\\s+\\d.\\d\\dE\\D\\d\\d\\s+[PaspFAILEDiled]{3,7}'\n",
    "\n",
    "#Extract BER value and and test result for each 25 KHz DAMA test\n",
    "for i in range(3):\n",
    "    D5K = re.findall(D5KTemp[i], ATest)\n",
    "    df[[D5KBERValues[i]]] = re.findall('\\d.\\d\\dE\\D\\d\\d', D5K[0])[0]\n",
    "    df[[D5KBERResults[i]]] = re.findall('[pPasFAILEDfiled]{3,7}', D5K[0])[0]\n",
    "    \n",
    "print(df.loc[:,'D5K1BER':'D5K3Res'])\n"
   ]
  },
  {
   "cell_type": "code",
   "execution_count": 2211,
   "metadata": {},
   "outputs": [
    {
     "name": "stdout",
     "output_type": "stream",
     "text": [
      "ATP Paragraph: 3.7 Found\n",
      "   D25K1BER  D25K2BER  D25K3BER  D25K4BER  D25K5BER D25K1Res D25K2Res  \\\n",
      "0  0.00E+00  0.00E+00  0.00E+00  0.00E+00  0.00E+00     Pass     Pass   \n",
      "\n",
      "  D25K3Res D25K4Res D25K5Res  \n",
      "0     Pass     Pass     Pass  \n"
     ]
    }
   ],
   "source": [
    "#25 KHz DAMA BER PERFORMANCE\n",
    "#Check if ATP Paragraph Number 3.7 is present\n",
    "ATP37 = re.search(\"ATP Paragraph:      3.7\", ATest)\n",
    "if ATP37 != None:\n",
    "    print(\"ATP Paragraph: 3.7 Found\")\n",
    "\n",
    "#Define list matrix to store strings\n",
    "D25KTemp = ['a','a','a','a','a']\n",
    "\n",
    "#Select column names as a list of strings for BER values and Results\n",
    "D25KBERValues = df.loc[:,'D25K1BER':'D25K5BER']\n",
    "D25KBERValues = list(D25KBERValues.columns)\n",
    "\n",
    "D25KBERResults = df.loc[:,'D25K1Res':'D25K5Res']\n",
    "D25KBERResults = list(D25KBERResults.columns)\n",
    "\n",
    "#Define regex template for each 25 KHz DAMA test\n",
    "D25KTemp[0] = '9600\\s+Rx\\s+3/4\\s+1200\\s+6.2\\s+\\d+\\s+\\d+\\s+1E\\D\\d\\d\\s+\\d.\\d\\dE\\D\\d\\d\\s+[PaspFAILEDiled]{3,7}'\n",
    "D25KTemp[1] = '32000\\s+Tx\\s+3/4\\s+16000\\s+7.5\\s+\\d+\\s+\\d+\\s+1E\\D\\d\\d\\s+\\d.\\d\\dE\\D\\d\\d\\s+[PaspFAILEDiled]{3,7}'\n",
    "D25KTemp[2] = '32000\\s+Rx\\s+3/4\\s+16000\\s+7.5\\s+\\d+\\s+\\d+\\s+1E\\D\\d\\d\\s+\\d.\\d\\dE\\D\\d\\d\\s+[PaspFAILEDiled]{3,7}'\n",
    "D25KTemp[3] = '32000\\s+Rx\\s+1/2\\s+2400\\s+7.5\\s+\\d+\\s+\\d+\\s+1E\\D\\d\\d\\s+\\d.\\d\\dE\\D\\d\\d\\s+[PaspFAILEDiled]{3,7}'\n",
    "D25KTemp[4] = '19200\\s+Rx\\s+1/2\\s+4800\\s+6.0\\s+\\d+\\s+\\d+\\s+1E\\D\\d\\d\\s+\\d.\\d\\dE\\D\\d\\d\\s+[PaspFAILEDiled]{3,7}'\n",
    "\n",
    "#Extract BER value and and test result for each 25KHz DAMA test\n",
    "for i in range(5):\n",
    "    D25K = re.findall(D25KTemp[i], ATest)\n",
    "    df[[D25KBERValues[i]]] = re.findall('\\d.\\d\\dE\\D\\d\\d', D25K[0])[0]\n",
    "    df[[D25KBERResults[i]]] = re.findall('[pPasFAILEDfiled]{3,7}', D25K[0])[0]\n",
    "    \n",
    "print(df.loc[:,'D25K1BER':'D25K5Res'])"
   ]
  },
  {
   "cell_type": "code",
   "execution_count": 2212,
   "metadata": {},
   "outputs": [
    {
     "name": "stdout",
     "output_type": "stream",
     "text": [
      "ATP Paragraph: 3.28 Found\n",
      "   RILS1Val  RILS2Val RILS1Res RILS2Res\n",
      "0  0.00E+00  0.00E+00     Pass     Pass\n"
     ]
    }
   ],
   "source": [
    "#RECEIVE IF LEVEL SENSITIVITY\n",
    "#Check if ATP Paragraph Number 3.28 is present\n",
    "ATP28 = re.search(\"ATP Paragraph:      3.28\", ATest)\n",
    "if ATP28 != None:\n",
    "    print(\"ATP Paragraph: 3.28 Found\")\n",
    "\n",
    "#Define list matrix to store strings\n",
    "RILSTemp = ['a','a']\n",
    "\n",
    "#Select column names as a list of strings for BER values and Results\n",
    "RILSValues = df.loc[:,'RILS1Val':'RILS2Val']\n",
    "RILSValues = list(RILSValues.columns)\n",
    "\n",
    "RILSResults = df.loc[:,'RILS1Res':'RILS2Res']\n",
    "RILSResults = list(RILSResults.columns)\n",
    "\n",
    "#Define regex template for each 25 KHz DAMA test\n",
    "RILSTemp[0] = '1200\\s+-8\\s+\\d+\\s+\\d+\\s+\\D\\s+1E\\D\\d\\s+\\d.\\d\\dE\\D\\d\\d\\s+[PaspFAILEDiled]{3,7}'\n",
    "RILSTemp[1] = '9600\\s+-17\\s+\\d+\\s+\\d+\\s+\\D\\s+1E\\D\\d\\s+\\d.\\d\\dE\\D\\d\\d\\s+[PaspFAILEDiled]{3,7}'\n",
    "\n",
    "#Extract BER value and and test result for each 25KHz DAMA test\n",
    "for i in range(2):\n",
    "    RILS = re.findall(RILSTemp[i], ATest)\n",
    "    df[[RILSValues[i]]] = re.findall('\\d.\\d\\dE\\D\\d\\d', RILS[0])[0]\n",
    "    df[[RILSResults[i]]] = re.findall('[pPasFAILEDfiled]{3,7}', RILS[0])[0]\n",
    "    \n",
    "print(df.loc[:,'RILS1Val':'RILS2Res'])"
   ]
  },
  {
   "cell_type": "code",
   "execution_count": 2213,
   "metadata": {},
   "outputs": [
    {
     "data": {
      "text/html": [
       "<div>\n",
       "<style>\n",
       "    .dataframe thead tr:only-child th {\n",
       "        text-align: right;\n",
       "    }\n",
       "\n",
       "    .dataframe thead th {\n",
       "        text-align: left;\n",
       "    }\n",
       "\n",
       "    .dataframe tbody tr th {\n",
       "        vertical-align: top;\n",
       "    }\n",
       "</style>\n",
       "<table border=\"1\" class=\"dataframe\">\n",
       "  <thead>\n",
       "    <tr style=\"text-align: right;\">\n",
       "      <th></th>\n",
       "      <th>TestSWVer</th>\n",
       "      <th>TestStNum</th>\n",
       "      <th>TestMonth</th>\n",
       "      <th>TestDate</th>\n",
       "      <th>TestTime</th>\n",
       "      <th>TestYear</th>\n",
       "      <th>BOOTID</th>\n",
       "      <th>DSPID</th>\n",
       "      <th>OEBBOOTID</th>\n",
       "      <th>OEBID</th>\n",
       "      <th>...</th>\n",
       "      <th>D25K5BER</th>\n",
       "      <th>D25K1Res</th>\n",
       "      <th>D25K2Res</th>\n",
       "      <th>D25K3Res</th>\n",
       "      <th>D25K4Res</th>\n",
       "      <th>D25K5Res</th>\n",
       "      <th>RILS1Val</th>\n",
       "      <th>RILS2Val</th>\n",
       "      <th>RILS1Res</th>\n",
       "      <th>RILS2Res</th>\n",
       "    </tr>\n",
       "  </thead>\n",
       "  <tbody>\n",
       "    <tr>\n",
       "      <th>0</th>\n",
       "      <td>10.04</td>\n",
       "      <td>2</td>\n",
       "      <td>Oct</td>\n",
       "      <td>14</td>\n",
       "      <td>06:50:58</td>\n",
       "      <td>2017</td>\n",
       "      <td>VSW-BOOT-DSP-09.01</td>\n",
       "      <td>VSW-SGM-DSP-09.36</td>\n",
       "      <td>VSW-BOOT-OEB-01.30</td>\n",
       "      <td>VSW-SGM-OEB-06.14</td>\n",
       "      <td>...</td>\n",
       "      <td>0.00E+00</td>\n",
       "      <td>Pass</td>\n",
       "      <td>Pass</td>\n",
       "      <td>Pass</td>\n",
       "      <td>Pass</td>\n",
       "      <td>Pass</td>\n",
       "      <td>0.00E+00</td>\n",
       "      <td>0.00E+00</td>\n",
       "      <td>Pass</td>\n",
       "      <td>Pass</td>\n",
       "    </tr>\n",
       "  </tbody>\n",
       "</table>\n",
       "<p>1 rows × 80 columns</p>\n",
       "</div>"
      ],
      "text/plain": [
       "  TestSWVer TestStNum TestMonth TestDate  TestTime TestYear  \\\n",
       "0     10.04         2       Oct       14  06:50:58     2017   \n",
       "\n",
       "               BOOTID              DSPID           OEBBOOTID  \\\n",
       "0  VSW-BOOT-DSP-09.01  VSW-SGM-DSP-09.36  VSW-BOOT-OEB-01.30   \n",
       "\n",
       "               OEBID   ...     D25K5BER D25K1Res D25K2Res D25K3Res D25K4Res  \\\n",
       "0  VSW-SGM-OEB-06.14   ...     0.00E+00     Pass     Pass     Pass     Pass   \n",
       "\n",
       "  D25K5Res  RILS1Val  RILS2Val RILS1Res RILS2Res  \n",
       "0     Pass  0.00E+00  0.00E+00     Pass     Pass  \n",
       "\n",
       "[1 rows x 80 columns]"
      ]
     },
     "execution_count": 2213,
     "metadata": {},
     "output_type": "execute_result"
    }
   ],
   "source": [
    "df"
   ]
  },
  {
   "cell_type": "code",
   "execution_count": 2214,
   "metadata": {
    "collapsed": true
   },
   "outputs": [],
   "source": [
    "df.to_csv(ResultFile, index=False)"
   ]
  },
  {
   "cell_type": "code",
   "execution_count": 2215,
   "metadata": {},
   "outputs": [
    {
     "data": {
      "text/html": [
       "<div>\n",
       "<style>\n",
       "    .dataframe thead tr:only-child th {\n",
       "        text-align: right;\n",
       "    }\n",
       "\n",
       "    .dataframe thead th {\n",
       "        text-align: left;\n",
       "    }\n",
       "\n",
       "    .dataframe tbody tr th {\n",
       "        vertical-align: top;\n",
       "    }\n",
       "</style>\n",
       "<table border=\"1\" class=\"dataframe\">\n",
       "  <thead>\n",
       "    <tr style=\"text-align: right;\">\n",
       "      <th></th>\n",
       "      <th>TestSWVer</th>\n",
       "      <th>TestStNum</th>\n",
       "      <th>TestMonth</th>\n",
       "      <th>TestDate</th>\n",
       "      <th>TestTime</th>\n",
       "      <th>TestYear</th>\n",
       "      <th>BOOTID</th>\n",
       "      <th>DSPID</th>\n",
       "      <th>OEBBOOTID</th>\n",
       "      <th>OEBID</th>\n",
       "      <th>...</th>\n",
       "      <th>D25K5BER</th>\n",
       "      <th>D25K1Res</th>\n",
       "      <th>D25K2Res</th>\n",
       "      <th>D25K3Res</th>\n",
       "      <th>D25K4Res</th>\n",
       "      <th>D25K5Res</th>\n",
       "      <th>RILS1Val</th>\n",
       "      <th>RILS2Val</th>\n",
       "      <th>RILS1Res</th>\n",
       "      <th>RILS2Res</th>\n",
       "    </tr>\n",
       "  </thead>\n",
       "  <tbody>\n",
       "    <tr>\n",
       "      <th>0</th>\n",
       "      <td>10.04</td>\n",
       "      <td>2</td>\n",
       "      <td>Oct</td>\n",
       "      <td>14</td>\n",
       "      <td>06:50:58</td>\n",
       "      <td>2017</td>\n",
       "      <td>VSW-BOOT-DSP-09.01</td>\n",
       "      <td>VSW-SGM-DSP-09.36</td>\n",
       "      <td>VSW-BOOT-OEB-01.30</td>\n",
       "      <td>VSW-SGM-OEB-06.14</td>\n",
       "      <td>...</td>\n",
       "      <td>0.0</td>\n",
       "      <td>Pass</td>\n",
       "      <td>Pass</td>\n",
       "      <td>Pass</td>\n",
       "      <td>Pass</td>\n",
       "      <td>Pass</td>\n",
       "      <td>0.0</td>\n",
       "      <td>0.0</td>\n",
       "      <td>Pass</td>\n",
       "      <td>Pass</td>\n",
       "    </tr>\n",
       "  </tbody>\n",
       "</table>\n",
       "<p>1 rows × 80 columns</p>\n",
       "</div>"
      ],
      "text/plain": [
       "   TestSWVer  TestStNum TestMonth  TestDate  TestTime  TestYear  \\\n",
       "0      10.04          2       Oct        14  06:50:58      2017   \n",
       "\n",
       "               BOOTID              DSPID           OEBBOOTID  \\\n",
       "0  VSW-BOOT-DSP-09.01  VSW-SGM-DSP-09.36  VSW-BOOT-OEB-01.30   \n",
       "\n",
       "               OEBID   ...    D25K5BER  D25K1Res D25K2Res D25K3Res D25K4Res  \\\n",
       "0  VSW-SGM-OEB-06.14   ...         0.0      Pass     Pass     Pass     Pass   \n",
       "\n",
       "  D25K5Res RILS1Val RILS2Val RILS1Res RILS2Res  \n",
       "0     Pass      0.0      0.0     Pass     Pass  \n",
       "\n",
       "[1 rows x 80 columns]"
      ]
     },
     "execution_count": 2215,
     "metadata": {},
     "output_type": "execute_result"
    }
   ],
   "source": [
    "df1 = pd.read_csv(ResultFile)\n",
    "df1"
   ]
  },
  {
   "cell_type": "code",
   "execution_count": null,
   "metadata": {
    "collapsed": true
   },
   "outputs": [],
   "source": []
  },
  {
   "cell_type": "code",
   "execution_count": null,
   "metadata": {
    "collapsed": true
   },
   "outputs": [],
   "source": []
  }
 ],
 "metadata": {
  "kernelspec": {
   "display_name": "Python 3",
   "language": "python",
   "name": "python3"
  }
 },
 "nbformat": 4,
 "nbformat_minor": 2
}
