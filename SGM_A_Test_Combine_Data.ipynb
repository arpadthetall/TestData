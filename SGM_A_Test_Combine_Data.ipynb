{
 "cells": [
  {
   "cell_type": "markdown",
   "metadata": {},
   "source": [
    "![alt text](viasat-logo2_0.png \"Title\")"
   ]
  },
  {
   "cell_type": "markdown",
   "metadata": {},
   "source": [
    "# SGM A-level test data evaluation notebook\n",
    "\n",
    "This notebook takes the dataframes previouly created by \"SGM A_Test_Read_Data\" notebook that extracted the data from the A-level test result text files. This notebook combines all the individual dataframes in the A_Level_Code_Test_Extracted folder into one. Subsequently that dataframe is used to display different aspects of the results in a way that it provides additional insight.\n",
    "\n",
    "### Python libraries and selecting extracted data files"
   ]
  },
  {
   "cell_type": "code",
   "execution_count": 1,
   "metadata": {
    "collapsed": true
   },
   "outputs": [],
   "source": [
    "# Import libraries\n",
    "import re # regular expressions library\n",
    "import pandas as pd # pandas library for dataframes\n",
    "import numpy as np # numpy library for numerical operations"
   ]
  },
  {
   "cell_type": "markdown",
   "metadata": {},
   "source": [
    "![alt text](DataFlow.png \"Title\")"
   ]
  },
  {
   "cell_type": "code",
   "execution_count": 2,
   "metadata": {},
   "outputs": [
    {
     "name": "stdout",
     "output_type": "stream",
     "text": [
      "A_Level_Code_Test_Extracted\\P15247A.TXT\n",
      "A_Level_Code_Test_Extracted\\P15248A.TXT\n",
      "A_Level_Code_Test_Extracted\\P15249A.TXT\n",
      "A_Level_Code_Test_Extracted\\P15250A.TXT\n",
      "A_Level_Code_Test_Extracted\\P15256A.TXT\n",
      "A_Level_Code_Test_Extracted\\P15259A.TXT\n",
      "A_Level_Code_Test_Extracted\\P15260A.TXT\n",
      "A_Level_Code_Test_Extracted\\P15265A.TXT\n",
      "A_Level_Code_Test_Extracted\\P15266A.TXT\n",
      "A_Level_Code_Test_Extracted\\P15275A.TXT\n",
      "A_Level_Code_Test_Extracted\\P15276A.TXT\n",
      "A_Level_Code_Test_Extracted\\P15280A.TXT\n",
      "A_Level_Code_Test_Extracted\\P15284A.TXT\n",
      "A_Level_Code_Test_Extracted\\P15285A.TXT\n",
      "A_Level_Code_Test_Extracted\\P15287A.TXT\n",
      "A_Level_Code_Test_Extracted\\P15292A.TXT\n",
      "A_Level_Code_Test_Extracted\\P15294A.TXT\n",
      "A_Level_Code_Test_Extracted\\P15440A.TXT\n",
      "A_Level_Code_Test_Extracted\\P15443A.TXT\n",
      "A_Level_Code_Test_Extracted\\P15446A.TXT\n",
      "A_Level_Code_Test_Extracted\\P15448A.TXT\n",
      "A_Level_Code_Test_Extracted\\P15449A.TXT\n",
      "A_Level_Code_Test_Extracted\\P15451A.TXT\n",
      "A_Level_Code_Test_Extracted\\P15452A.TXT\n",
      "A_Level_Code_Test_Extracted\\P15454A.TXT\n",
      "A_Level_Code_Test_Extracted\\P15457A.TXT\n",
      "A_Level_Code_Test_Extracted\\P15461A.TXT\n",
      "A_Level_Code_Test_Extracted\\P15462A.TXT\n",
      "A_Level_Code_Test_Extracted\\P15463A.TXT\n",
      "A_Level_Code_Test_Extracted\\P15464A.TXT\n",
      "A_Level_Code_Test_Extracted\\P15465A.TXT\n",
      "A_Level_Code_Test_Extracted\\P15468A.TXT\n",
      "A_Level_Code_Test_Extracted\\P15469A.TXT\n",
      "A_Level_Code_Test_Extracted\\P15470A.TXT\n",
      "A_Level_Code_Test_Extracted\\P15471A.TXT\n",
      "A_Level_Code_Test_Extracted\\P15473A.TXT\n",
      "A_Level_Code_Test_Extracted\\P15474A.TXT\n",
      "A_Level_Code_Test_Extracted\\P15475A.TXT\n",
      "A_Level_Code_Test_Extracted\\P15477A.TXT\n",
      "A_Level_Code_Test_Extracted\\P15478A.TXT\n",
      "A_Level_Code_Test_Extracted\\P15481A.TXT\n",
      "A_Level_Code_Test_Extracted\\P15482A.TXT\n",
      "A_Level_Code_Test_Extracted\\P15483A.TXT\n",
      "A_Level_Code_Test_Extracted\\P15484A.TXT\n",
      "A_Level_Code_Test_Extracted\\P15486A.TXT\n",
      "A_Level_Code_Test_Extracted\\P15488A.TXT\n",
      "A_Level_Code_Test_Extracted\\P15489A.TXT\n",
      "A_Level_Code_Test_Extracted\\P15490A.TXT\n",
      "A_Level_Code_Test_Extracted\\P15491A.TXT\n",
      "A_Level_Code_Test_Extracted\\P15492A.TXT\n",
      "A_Level_Code_Test_Extracted\\P15493A.TXT\n",
      "A_Level_Code_Test_Extracted\\P15494A.TXT\n",
      "A_Level_Code_Test_Extracted\\P15495A.TXT\n",
      "A_Level_Code_Test_Extracted\\P15496A.TXT\n",
      "A_Level_Code_Test_Extracted\\P15497A.TXT\n",
      "A_Level_Code_Test_Extracted\\P15498A.TXT\n",
      "A_Level_Code_Test_Extracted\\P15499A.TXT\n",
      "A_Level_Code_Test_Extracted\\P15500A.TXT\n",
      "A_Level_Code_Test_Extracted\\P15501A.TXT\n",
      "A_Level_Code_Test_Extracted\\P15504A.TXT\n",
      "A_Level_Code_Test_Extracted\\P15505A.TXT\n",
      "A_Level_Code_Test_Extracted\\P15506A.TXT\n",
      "A_Level_Code_Test_Extracted\\P15507A.TXT\n",
      "A_Level_Code_Test_Extracted\\P15509A.TXT\n",
      "A_Level_Code_Test_Extracted\\P15511A.TXT\n",
      "A_Level_Code_Test_Extracted\\P15512A.TXT\n",
      "A_Level_Code_Test_Extracted\\P15513A.TXT\n",
      "A_Level_Code_Test_Extracted\\P15515A.TXT\n",
      "A_Level_Code_Test_Extracted\\P15516A.TXT\n",
      "A_Level_Code_Test_Extracted\\P15517A.TXT\n",
      "A_Level_Code_Test_Extracted\\P15518A.TXT\n",
      "A_Level_Code_Test_Extracted\\P15519A.TXT\n",
      "A_Level_Code_Test_Extracted\\P15521A.TXT\n",
      "A_Level_Code_Test_Extracted\\P15522A.TXT\n",
      "A_Level_Code_Test_Extracted\\P15523A.TXT\n",
      "A_Level_Code_Test_Extracted\\P15525A.TXT\n",
      "A_Level_Code_Test_Extracted\\P15526A.TXT\n",
      "A_Level_Code_Test_Extracted\\P15527A.TXT\n",
      "A_Level_Code_Test_Extracted\\P15530A.TXT\n",
      "A_Level_Code_Test_Extracted\\P15531A.TXT\n",
      "A_Level_Code_Test_Extracted\\P15532A.TXT\n",
      "A_Level_Code_Test_Extracted\\P15539A.TXT\n",
      "A_Level_Code_Test_Extracted\\P15540A.TXT\n",
      "A_Level_Code_Test_Extracted\\P15541A.TXT\n",
      "A_Level_Code_Test_Extracted\\P15542A.TXT\n",
      "A_Level_Code_Test_Extracted\\P15543A.TXT\n",
      "A_Level_Code_Test_Extracted\\P15544A.TXT\n",
      "A_Level_Code_Test_Extracted\\P15545A.TXT\n",
      "A_Level_Code_Test_Extracted\\P15546A.TXT\n",
      "A_Level_Code_Test_Extracted\\P15547A.TXT\n",
      "A_Level_Code_Test_Extracted\\P15548A.TXT\n",
      "A_Level_Code_Test_Extracted\\P15552A.TXT\n",
      "A_Level_Code_Test_Extracted\\P15553A.TXT\n",
      "A_Level_Code_Test_Extracted\\P15554A.TXT\n",
      "A_Level_Code_Test_Extracted\\P15555A.TXT\n",
      "A_Level_Code_Test_Extracted\\P15556A.TXT\n",
      "A_Level_Code_Test_Extracted\\P15558A.TXT\n",
      "A_Level_Code_Test_Extracted\\P15559A.TXT\n",
      "A_Level_Code_Test_Extracted\\P15561A.TXT\n",
      "A_Level_Code_Test_Extracted\\P15562A.TXT\n",
      "A_Level_Code_Test_Extracted\\P15563A.TXT\n",
      "A_Level_Code_Test_Extracted\\P15564A.TXT\n",
      "A_Level_Code_Test_Extracted\\P15568A.TXT\n",
      "A_Level_Code_Test_Extracted\\P15569A.TXT\n",
      "A_Level_Code_Test_Extracted\\P15570A.TXT\n",
      "A_Level_Code_Test_Extracted\\P15573A.TXT\n",
      "A_Level_Code_Test_Extracted\\P15574A.TXT\n",
      "A_Level_Code_Test_Extracted\\P15575A.TXT\n",
      "A_Level_Code_Test_Extracted\\P15576A.TXT\n",
      "A_Level_Code_Test_Extracted\\P15577A.TXT\n",
      "A_Level_Code_Test_Extracted\\P15578A.TXT\n",
      "A_Level_Code_Test_Extracted\\P15579A.TXT\n",
      "A_Level_Code_Test_Extracted\\P15580A.TXT\n",
      "A_Level_Code_Test_Extracted\\P15581A.TXT\n",
      "A_Level_Code_Test_Extracted\\P15582A.TXT\n",
      "A_Level_Code_Test_Extracted\\P15583A.TXT\n",
      "A_Level_Code_Test_Extracted\\P15584A.TXT\n",
      "A_Level_Code_Test_Extracted\\P15586A.TXT\n",
      "A_Level_Code_Test_Extracted\\P15587A.TXT\n",
      "A_Level_Code_Test_Extracted\\P15588A.TXT\n",
      "A_Level_Code_Test_Extracted\\P15589A.TXT\n",
      "A_Level_Code_Test_Extracted\\P15590A.TXT\n",
      "A_Level_Code_Test_Extracted\\P15591A.TXT\n",
      "A_Level_Code_Test_Extracted\\P15592A.TXT\n",
      "A_Level_Code_Test_Extracted\\P15593A.TXT\n",
      "A_Level_Code_Test_Extracted\\P15594A.TXT\n",
      "A_Level_Code_Test_Extracted\\P15595A.TXT\n",
      "A_Level_Code_Test_Extracted\\P15596A.TXT\n",
      "A_Level_Code_Test_Extracted\\P15597A.TXT\n",
      "A_Level_Code_Test_Extracted\\P15598A.TXT\n",
      "A_Level_Code_Test_Extracted\\P15659A.TXT\n",
      "A_Level_Code_Test_Extracted\\P15660A.TXT\n",
      "A_Level_Code_Test_Extracted\\P15661A.TXT\n",
      "A_Level_Code_Test_Extracted\\P15662A.TXT\n",
      "A_Level_Code_Test_Extracted\\P15663A.TXT\n",
      "A_Level_Code_Test_Extracted\\P15664A.TXT\n",
      "A_Level_Code_Test_Extracted\\P15665A.TXT\n",
      "A_Level_Code_Test_Extracted\\P15667A.TXT\n",
      "A_Level_Code_Test_Extracted\\P15668A.TXT\n",
      "A_Level_Code_Test_Extracted\\P15669A.TXT\n",
      "A_Level_Code_Test_Extracted\\P15671A.TXT\n",
      "A_Level_Code_Test_Extracted\\P15672A.TXT\n",
      "A_Level_Code_Test_Extracted\\P15673A.TXT\n",
      "A_Level_Code_Test_Extracted\\P15674A.TXT\n",
      "A_Level_Code_Test_Extracted\\P15675A.TXT\n",
      "A_Level_Code_Test_Extracted\\P15676A.TXT\n",
      "A_Level_Code_Test_Extracted\\P15677A.TXT\n",
      "A_Level_Code_Test_Extracted\\P15680A.TXT\n",
      "A_Level_Code_Test_Extracted\\P15681A.TXT\n",
      "A_Level_Code_Test_Extracted\\P15684A.TXT\n"
     ]
    }
   ],
   "source": [
    "# Read all file names in the extracted data folder\n",
    "# store the file names in the file_list variable\n",
    "# only include text files\n",
    "# print out all of the file names\n",
    "\n",
    "source_dir = 'A_Level_Code_Test_Extracted' # name of directory containing extracted files\n",
    "file_list = []\n",
    "import os\n",
    "for file in os.listdir(source_dir): # go through each files in directory\n",
    "    if (file.endswith(\".txt\")) | (file.endswith(\".TXT\")): # check if they are text files\n",
    "        print(os.path.join(source_dir, file)) # print out names\n",
    "        file_list.append(file) # add names to list"
   ]
  },
  {
   "cell_type": "markdown",
   "metadata": {},
   "source": [
    "### Combine all the data into one data frame"
   ]
  },
  {
   "cell_type": "code",
   "execution_count": 3,
   "metadata": {
    "collapsed": true
   },
   "outputs": [],
   "source": [
    "# Read in each dataframe and concatinate them\n",
    "source_file = source_dir + '/' + file_list[0] # combine directory and file name, first file\n",
    "df = pd.read_csv(source_file, index_col='SN') # initialize dataframe with first file\n",
    "\n",
    "fl = file_list[1:] # take out first file from list, prevent reading it twice\n",
    "\n",
    "for file in fl: # go trough all file names\n",
    "    source_file = source_dir + '/' + file # generate full path\n",
    "    df1 = pd.read_csv(source_file, index_col='SN') # read dataframes from text files\n",
    "    df = pd.concat([df, df1]) # concatanate them"
   ]
  },
  {
   "cell_type": "markdown",
   "metadata": {},
   "source": [
    "## A-level 5 KHz DAMA BER test results\n",
    "\n",
    "#### A-level 5 KHz DAMA test cases\n",
    "\n",
    "These test cases were selected because they provide results that make the plots more \"interesting\"\n",
    "\n",
    "             Ch bit rate   FEC   Data Rate   EbNo  BER Spec\n",
    "     Test 1   6000 Tx      1/1   2400        9.3   1E-03\n",
    "     Test 2   6000 Rx      1/1   2400        9.3   1E-03\n",
    "     Test 3   4800 Rx      1/2   1200        6.0   1E-05\n",
    "     \n",
    "   ### Plotting libraries"
   ]
  },
  {
   "cell_type": "code",
   "execution_count": 4,
   "metadata": {
    "collapsed": true
   },
   "outputs": [],
   "source": [
    "#Import plotting libraries\n",
    "import matplotlib.pyplot as plt # import matplotlib library\n",
    "%matplotlib inline\n",
    "import seaborn as sns # import seaborn plotting library"
   ]
  },
  {
   "cell_type": "code",
   "execution_count": 5,
   "metadata": {
    "collapsed": true
   },
   "outputs": [],
   "source": [
    "#Import iPython widget libraries\n",
    "import ipywidgets as wg # import widgets library\n",
    "from IPython.display import display # import display library"
   ]
  },
  {
   "cell_type": "markdown",
   "metadata": {},
   "source": [
    "### Array of interactive histogram plots sorted by categorical variables\n",
    "\n",
    "The plot shows an array of histograms sorted by year and test station number.\n",
    "This would allow the user to make comparisons between test station performance and performance change over time.\n",
    "\n",
    "The 5 KHz test case can be selected by radio buttons and the plot reacts to the change."
   ]
  },
  {
   "cell_type": "code",
   "execution_count": 6,
   "metadata": {
    "collapsed": true
   },
   "outputs": [],
   "source": [
    "# Setup radio buttons to make a selection from the three possible A-level 5 KHz DAMA tests\n",
    "test_select = wg.RadioButtons(\n",
    "    # Setup button names, dataframe column names as values\n",
    "    options=[('5K DAMA TC1', 'D5K1BER'), ('5K DAMA TC2', 'D5K2BER'), ('5K DAMA TC3', 'D5K3BER')], \n",
    "    value='D5K1BER', # Default value\n",
    "    description='5K DAMA Test', # button description\n",
    "    disabled=False\n",
    ")"
   ]
  },
  {
   "cell_type": "code",
   "execution_count": 7,
   "metadata": {},
   "outputs": [
    {
     "name": "stdout",
     "output_type": "stream",
     "text": [
      "A-level 5 KHz DAMA BER test selection\n"
     ]
    },
    {
     "data": {
      "application/vnd.jupyter.widget-view+json": {
       "model_id": "56bfcccd1d7d4881ad57d1854449c755",
       "version_major": 2,
       "version_minor": 0
      },
      "text/plain": [
       "A Jupyter Widget"
      ]
     },
     "metadata": {},
     "output_type": "display_data"
    },
    {
     "data": {
      "text/plain": [
       "<function __main__.d5k_histplot>"
      ]
     },
     "execution_count": 7,
     "metadata": {},
     "output_type": "execute_result"
    }
   ],
   "source": [
    "# Define the histogram plotting function and make it interact with the radio buttons defined previously.\n",
    "\n",
    "# Set plot style\n",
    "sns.set(style=\"darkgrid\")\n",
    "\n",
    "# Define histogram plotting function\n",
    "def d5k_histplot(test_type):\n",
    "    g = sns.FacetGrid(df, row=\"TestStNum\", col=\"TestYear\", margin_titles=True, size =3) # Setup plot canvas\n",
    "    bins = np.linspace(0, 7e-4, 10) # Setup bins and plot range\n",
    "    g.map(plt.hist, test_type, color=\"steelblue\", bins=bins, lw=1) # Setup plot parameters\n",
    "    plt.subplots_adjust(top=0.92) # Create margin on top of plot for title\n",
    "    g.fig.suptitle('5KHz DAMA BER Test') # Add title t the plot\n",
    "    \n",
    "print('A-level 5 KHz DAMA BER test selection') # Print title\n",
    "wg.interact(d5k_histplot, test_type=test_select) # Setup interaction between the buttons and the plot"
   ]
  },
  {
   "cell_type": "markdown",
   "metadata": {},
   "source": [
    "### Comparing two distributions with added Kernel Density Estimation\n",
    "\n",
    "The plot shows the distribution of two 5 KHz DAMA BER test values on the same plot and the added KDE plot for each."
   ]
  },
  {
   "cell_type": "code",
   "execution_count": 8,
   "metadata": {},
   "outputs": [
    {
     "data": {
      "text/plain": [
       "<matplotlib.legend.Legend at 0xd5ed898>"
      ]
     },
     "execution_count": 8,
     "metadata": {},
     "output_type": "execute_result"
    },
    {
     "data": {
      "image/png": "[encoded data removed]",
      "text/plain": [
       "<matplotlib.figure.Figure at 0xcc0f438>"
      ]
     },
     "metadata": {},
     "output_type": "display_data"
    }
   ],
   "source": [
    "# Distribution plot of two variables\n",
    "sns.set(style=\"whitegrid\") # Set plot style\n",
    "fig, ax = plt.subplots(figsize=(12,6)) # Figure size\n",
    "ax.set_title('Distribution Plot Non-DAMA BER Test Results (TC1, TC2, TC3)') # Title\n",
    "\n",
    "#Distribution plots of two ariables on one plot\n",
    "sns.distplot(df['ND1BER'], label='TC1') # Setup TC1 plot\n",
    "sns.distplot(df['ND2BER'], label='TC2') # Setup TC2 plot\n",
    "sns.distplot(df['ND3BER'], axlabel='BER Value', label='TC3') # Setup TC3 plot and x label\n",
    "ax.legend(['TC1', 'TC2', 'TC3']) # Plot legend\n"
   ]
  },
  {
   "cell_type": "markdown",
   "metadata": {},
   "source": [
    "### Joint plot of variables with optional KDE\n",
    "\n",
    "Plot two 5 KHz DAMA BER value distributions against each other and show optional regression as well as kernel density estimation."
   ]
  },
  {
   "cell_type": "code",
   "execution_count": 9,
   "metadata": {},
   "outputs": [
    {
     "data": {
      "application/vnd.jupyter.widget-view+json": {
       "model_id": "46b92d6d6e394afb88ca199a78902186",
       "version_major": 2,
       "version_minor": 0
      },
      "text/plain": [
       "A Jupyter Widget"
      ]
     },
     "metadata": {},
     "output_type": "display_data"
    },
    {
     "data": {
      "text/plain": [
       "<function __main__.d5k_jointplot>"
      ]
     },
     "execution_count": 9,
     "metadata": {},
     "output_type": "execute_result"
    }
   ],
   "source": [
    "# Setup radio buttons to make a selection from the three possible A-level 5 KHz DAMA tests\n",
    "plot_select = wg.RadioButtons(\n",
    "    # Setup button names, dataframe column names as values\n",
    "    options=[('Scatter Plot', 'scatter'), ('Kernel Est, Regression', 'reg')], \n",
    "    value='reg', # Default value\n",
    "    description='Plot Mode', # button description\n",
    "    disabled=False\n",
    ")\n",
    "\n",
    "# Plot function\n",
    "def d5k_jointplot(plot_type):\n",
    "    sns.jointplot('D5K1BER', 'D5K2BER', df, kind=plot_type, xlim=(-0.0001, 0.0007), ylim=(-0.0001, 0.0007), size=6)\n",
    "\n",
    "wg.interact(d5k_jointplot, plot_type=plot_select) # Setup interaction between the buttons and the plot"
   ]
  },
  {
   "cell_type": "markdown",
   "metadata": {},
   "source": [
    "### Scatter plot of variables to check for correlation\n",
    "\n",
    "The scatter plot shows one of the 5 KHz DAMA BER test results as a function of the receiver sensitivity."
   ]
  },
  {
   "cell_type": "code",
   "execution_count": 10,
   "metadata": {},
   "outputs": [
    {
     "data": {
      "text/plain": [
       "(-1e-05, 0.0007)"
      ]
     },
     "execution_count": 10,
     "metadata": {},
     "output_type": "execute_result"
    },
    {
     "data": {
      "image/png": "[encoded data removed]",
      "text/plain": [
       "<matplotlib.figure.Figure at 0xcc2b7f0>"
      ]
     },
     "metadata": {},
     "output_type": "display_data"
    }
   ],
   "source": [
    "# Define the scatter plotusing the lm function.\n",
    "\n",
    "# Set plot style\n",
    "sns.set(style=\"white\")\n",
    "\n",
    "sns.lmplot( x=\"RILS1Val\", y=\"D5K2BER\", data=df, fit_reg=True, hue='TestStNum', legend=True, size=7)\n",
    "\n",
    "plt.ylim(-0.00001, 0.0007)\n",
    "plt.xlim(-0.00001, 0.0007)\n"
   ]
  },
  {
   "cell_type": "markdown",
   "metadata": {},
   "source": [
    "### Boxplots comparing distribution between years and test stations\n",
    "\n",
    "The following boxplot shows 5 KHz DAMA BER TC 1 measurement value distribution compares between results over time and between test stations."
   ]
  },
  {
   "cell_type": "code",
   "execution_count": 11,
   "metadata": {},
   "outputs": [
    {
     "data": {
      "image/png": "[encoded data removed]",
      "text/plain": [
       "<matplotlib.figure.Figure at 0xd3b3be0>"
      ]
     },
     "metadata": {},
     "output_type": "display_data"
    }
   ],
   "source": [
    "# Plot of BER values with seaborn\n",
    "\n",
    "#Set style\n",
    "sns.set(style='white')\n",
    "\n",
    "plt.subplots(figsize=(12,7)) # Figure size\n",
    "sns.boxplot(x=\"TestStNum\", y=\"D5K1BER\", hue=\"TestYear\", data=df, palette=\"Blues\", saturation=0.5)\n",
    "sns.despine(offset=10, trim=True)"
   ]
  },
  {
   "cell_type": "markdown",
   "metadata": {},
   "source": [
    "## Selecting time intervals to examine results in that period\n",
    "\n",
    "This section selects a time period using the iPython calendar picker widget. Those start and end dates are applied to the date column of the data frame. The date column is produced by combining the date, month and year column values that are strings and transforming them into a pandas datetime variable.\n",
    "\n",
    "### Add date column generated from string values\n",
    "\n",
    "Generate a pandas datetime column, 'date' from the string values in the year, month and date columns."
   ]
  },
  {
   "cell_type": "code",
   "execution_count": 12,
   "metadata": {
    "collapsed": true
   },
   "outputs": [],
   "source": [
    "# Combine the month, date and year column strings\n",
    "df['date'] = df['TestMonth'].map(str) + ' ' + df['TestDate'].map(str) + ' ' + df['TestYear'].map(str)"
   ]
  },
  {
   "cell_type": "code",
   "execution_count": 13,
   "metadata": {
    "collapsed": true
   },
   "outputs": [],
   "source": [
    "# Transform the strings into pandas datetime variables\n",
    "df['date'] = pd.to_datetime(df['date'])"
   ]
  },
  {
   "cell_type": "markdown",
   "metadata": {},
   "source": [
    "### Define date picker widgets and filter data frame rows by those values"
   ]
  },
  {
   "cell_type": "code",
   "execution_count": 14,
   "metadata": {
    "collapsed": true
   },
   "outputs": [],
   "source": [
    "# Define start and end date widgets\n",
    "start_date_hist = wg.DatePicker(\n",
    "    description='Start Date',\n",
    "    disabled=False\n",
    ")\n",
    "\n",
    "end_date_hist = wg.DatePicker(\n",
    "    description='End Date',\n",
    "    disabled=False\n",
    ")"
   ]
  },
  {
   "cell_type": "markdown",
   "metadata": {},
   "source": [
    "The plot below shows the measured BER values for each modem tested in a bar plot.\n",
    "        * The x axis shows the modem serial numbers.\n",
    "        * The y axis shows the BER value\n",
    "\n",
    "The test results are color coded by the test station used.\n",
    "\n",
    "The test time period of interest can be selected by the date pickers above the plot."
   ]
  },
  {
   "cell_type": "code",
   "execution_count": 18,
   "metadata": {},
   "outputs": [
    {
     "data": {
      "application/vnd.jupyter.widget-view+json": {
       "model_id": "e58221b527e34a2191b1e18f3578bd1d",
       "version_major": 2,
       "version_minor": 0
      },
      "text/plain": [
       "A Jupyter Widget"
      ]
     },
     "metadata": {},
     "output_type": "display_data"
    },
    {
     "data": {
      "text/plain": [
       "<function __main__.ber_plot>"
      ]
     },
     "execution_count": 18,
     "metadata": {},
     "output_type": "execute_result"
    }
   ],
   "source": [
    "# Define the function to plot the BER values for TC2 and connect the date range to the widgets\n",
    "def ber_plot(st_d, en_d):\n",
    "    #Create df_date_range dataframe with only the rows in the selected date range filtered out\n",
    "    mask = (df['date'] > st_d) & (df['date'] <= en_d)\n",
    "    df_date_range = df.loc[mask]\n",
    "    sns.set()\n",
    "    fig, ax = plt.subplots(figsize=(12,7))\n",
    "    print('A-level 5 KHz DAMA BER test selection')   \n",
    "    sns.barplot(x=df_date_range.index, y='D5K2BER', hue='TestStNum', data=df_date_range)\n",
    "    \n",
    "wg.interact(ber_plot, st_d=start_date_hist, en_d=end_date_hist)"
   ]
  },
  {
   "cell_type": "markdown",
   "metadata": {},
   "source": [
    "### Weekly SGM Modem Production ATP Test Numbers\n",
    "\n",
    "Show the number of ATP test results aggregated per week within a selected time period."
   ]
  },
  {
   "cell_type": "code",
   "execution_count": 16,
   "metadata": {
    "collapsed": true
   },
   "outputs": [],
   "source": [
    "# Define start and end date widgets\n",
    "start_date_bar = wg.DatePicker(\n",
    "    description='Start Date',\n",
    "    disabled=False\n",
    ")\n",
    "\n",
    "end_date_bar = wg.DatePicker(\n",
    "    description='End Date',\n",
    "    disabled=False\n",
    ")"
   ]
  },
  {
   "cell_type": "code",
   "execution_count": 17,
   "metadata": {},
   "outputs": [
    {
     "data": {
      "application/vnd.jupyter.widget-view+json": {
       "model_id": "404473612e074d36a1b3db93ee70e547",
       "version_major": 2,
       "version_minor": 0
      },
      "text/plain": [
       "A Jupyter Widget"
      ]
     },
     "metadata": {},
     "output_type": "display_data"
    },
    {
     "data": {
      "text/plain": [
       "<function __main__.atp_prod_plot>"
      ]
     },
     "execution_count": 17,
     "metadata": {},
     "output_type": "execute_result"
    }
   ],
   "source": [
    "#Turn off warning\n",
    "import warnings\n",
    "warnings.filterwarnings('ignore')\n",
    "\n",
    "#Plot weekly test volume numbers\n",
    "def atp_prod_plot(st_d, en_d):\n",
    "    sns.set(style=\"whitegrid\")\n",
    "    mask = (df['date'] > st_d) & (df['date'] <= en_d)\n",
    "    df_date_range = df.loc[mask]\n",
    "    xlabel='x'\n",
    "    df_date_range['Week'] = df_date_range.date.dt.week\n",
    "    df_date_range.Week.value_counts().sort_index().plot(kind='bar', figsize=(10,6), title='Weekly SGM Modem Test Output')\n",
    "\n",
    "wg.interact(atp_prod_plot, st_d=start_date_bar, en_d=end_date_bar)"
   ]
  }
 ],
 "metadata": {
  "kernelspec": {
   "display_name": "Python 3",
   "language": "python",
   "name": "python3"
  },
  "language_info": {
   "codemirror_mode": {
    "name": "ipython",
    "version": 3
   },
   "file_extension": ".py",
   "mimetype": "text/x-python",
   "name": "python",
   "nbconvert_exporter": "python",
   "pygments_lexer": "ipython3",
   "version": "3.6.3"
  }
 },
 "nbformat": 4,
 "nbformat_minor": 2
}
